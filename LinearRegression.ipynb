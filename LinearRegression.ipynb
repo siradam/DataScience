{
 "cells": [
  {
   "cell_type": "code",
   "execution_count": 30,
   "metadata": {},
   "outputs": [],
   "source": [
    "#linear regression\n",
    "#from scratch and with scipy.stats.linregress\n",
    "#minimzing the sum of squared error\n",
    "import numpy as np\n",
    "import pandas as pd\n",
    "import matplotlib.pyplot as plt"
   ]
  },
  {
   "cell_type": "code",
   "execution_count": 31,
   "metadata": {},
   "outputs": [
    {
     "data": {
      "text/html": [
       "<div>\n",
       "<style scoped>\n",
       "    .dataframe tbody tr th:only-of-type {\n",
       "        vertical-align: middle;\n",
       "    }\n",
       "\n",
       "    .dataframe tbody tr th {\n",
       "        vertical-align: top;\n",
       "    }\n",
       "\n",
       "    .dataframe thead th {\n",
       "        text-align: right;\n",
       "    }\n",
       "</style>\n",
       "<table border=\"1\" class=\"dataframe\">\n",
       "  <thead>\n",
       "    <tr style=\"text-align: right;\">\n",
       "      <th></th>\n",
       "      <th>X</th>\n",
       "      <th>Y</th>\n",
       "    </tr>\n",
       "  </thead>\n",
       "  <tbody>\n",
       "    <tr>\n",
       "      <th>0</th>\n",
       "      <td>4.910131</td>\n",
       "      <td>2.196544</td>\n",
       "    </tr>\n",
       "    <tr>\n",
       "      <th>1</th>\n",
       "      <td>1.500393</td>\n",
       "      <td>2.776927</td>\n",
       "    </tr>\n",
       "    <tr>\n",
       "      <th>2</th>\n",
       "      <td>2.946845</td>\n",
       "      <td>3.316272</td>\n",
       "    </tr>\n",
       "    <tr>\n",
       "      <th>3</th>\n",
       "      <td>6.102233</td>\n",
       "      <td>3.459587</td>\n",
       "    </tr>\n",
       "    <tr>\n",
       "      <th>4</th>\n",
       "      <td>5.168895</td>\n",
       "      <td>4.685546</td>\n",
       "    </tr>\n",
       "    <tr>\n",
       "      <th>5</th>\n",
       "      <td>-1.943195</td>\n",
       "      <td>0.689859</td>\n",
       "    </tr>\n",
       "    <tr>\n",
       "      <th>6</th>\n",
       "      <td>2.875221</td>\n",
       "      <td>2.885446</td>\n",
       "    </tr>\n",
       "    <tr>\n",
       "      <th>7</th>\n",
       "      <td>0.121607</td>\n",
       "      <td>1.942890</td>\n",
       "    </tr>\n",
       "    <tr>\n",
       "      <th>8</th>\n",
       "      <td>0.241953</td>\n",
       "      <td>2.838975</td>\n",
       "    </tr>\n",
       "    <tr>\n",
       "      <th>9</th>\n",
       "      <td>1.526496</td>\n",
       "      <td>3.192628</td>\n",
       "    </tr>\n",
       "    <tr>\n",
       "      <th>10</th>\n",
       "      <td>0.860109</td>\n",
       "      <td>2.335506</td>\n",
       "    </tr>\n",
       "    <tr>\n",
       "      <th>11</th>\n",
       "      <td>4.135684</td>\n",
       "      <td>3.429786</td>\n",
       "    </tr>\n",
       "    <tr>\n",
       "      <th>12</th>\n",
       "      <td>2.402594</td>\n",
       "      <td>2.276885</td>\n",
       "    </tr>\n",
       "    <tr>\n",
       "      <th>13</th>\n",
       "      <td>0.804188</td>\n",
       "      <td>1.250858</td>\n",
       "    </tr>\n",
       "    <tr>\n",
       "      <th>14</th>\n",
       "      <td>1.609658</td>\n",
       "      <td>2.308941</td>\n",
       "    </tr>\n",
       "    <tr>\n",
       "      <th>15</th>\n",
       "      <td>1.334186</td>\n",
       "      <td>2.478430</td>\n",
       "    </tr>\n",
       "    <tr>\n",
       "      <th>16</th>\n",
       "      <td>4.235198</td>\n",
       "      <td>3.885705</td>\n",
       "    </tr>\n",
       "    <tr>\n",
       "      <th>17</th>\n",
       "      <td>-0.012896</td>\n",
       "      <td>2.597321</td>\n",
       "    </tr>\n",
       "    <tr>\n",
       "      <th>18</th>\n",
       "      <td>1.282669</td>\n",
       "      <td>2.191137</td>\n",
       "    </tr>\n",
       "    <tr>\n",
       "      <th>19</th>\n",
       "      <td>-1.635239</td>\n",
       "      <td>1.358277</td>\n",
       "    </tr>\n",
       "  </tbody>\n",
       "</table>\n",
       "</div>"
      ],
      "text/plain": [
       "           X         Y\n",
       "0   4.910131  2.196544\n",
       "1   1.500393  2.776927\n",
       "2   2.946845  3.316272\n",
       "3   6.102233  3.459587\n",
       "4   5.168895  4.685546\n",
       "5  -1.943195  0.689859\n",
       "6   2.875221  2.885446\n",
       "7   0.121607  1.942890\n",
       "8   0.241953  2.838975\n",
       "9   1.526496  3.192628\n",
       "10  0.860109  2.335506\n",
       "11  4.135684  3.429786\n",
       "12  2.402594  2.276885\n",
       "13  0.804188  1.250858\n",
       "14  1.609658  2.308941\n",
       "15  1.334186  2.478430\n",
       "16  4.235198  3.885705\n",
       "17 -0.012896  2.597321\n",
       "18  1.282669  2.191137\n",
       "19 -1.635239  1.358277"
      ]
     },
     "execution_count": 31,
     "metadata": {},
     "output_type": "execute_result"
    }
   ],
   "source": [
    "df = pd.read_csv('linreg_data.csv')\n",
    "df"
   ]
  },
  {
   "cell_type": "code",
   "execution_count": 32,
   "metadata": {},
   "outputs": [],
   "source": [
    "X = df['X']\n",
    "Y = df['Y']\n",
    "# print(X)\n",
    "# print(Y)"
   ]
  },
  {
   "cell_type": "code",
   "execution_count": 41,
   "metadata": {},
   "outputs": [],
   "source": [
    "def predict(m,b,X):\n",
    "  return m*X+b\n",
    "\n",
    "#Error\n",
    "def error(m,b,x,y):\n",
    "  return predict(m,b,x) - y\n",
    "\n",
    "def sum_square_error(m,b,X,Y):\n",
    "  errored=0\n",
    "  for i in range(len(X)):\n",
    "    errored = errored + error(m,b,X[i],Y[i])\n",
    "  return errored**2\n",
    "\n",
    "#Minimizing the squared error\n",
    "def least_square_mean_fit(X,Y):\n",
    "  x_mean = np.mean(X)\n",
    "  y_mean = np.mean(Y)\n",
    "  ## Total number of values\n",
    "  total_no_values=len(X)\n",
    "  corr=0\n",
    "  std=0\n",
    "  for i in range(total_no_values):\n",
    "    corr+=((X[i]-x_mean) * (Y[i]-y_mean))\n",
    "    std+=(X[i] - x_mean)**2\n",
    "  m=corr/std\n",
    "  b=y_mean - (m*x_mean)\n",
    "  return m,b"
   ]
  },
  {
   "cell_type": "code",
   "execution_count": 48,
   "metadata": {},
   "outputs": [
    {
     "name": "stdout",
     "output_type": "stream",
     "text": [
      "0.3244182281799104 , 1.9809107076502444\n"
     ]
    }
   ],
   "source": [
    "m,b = least_square_mean_fit(X,Y)\n",
    "print(m,\",\",b)\n"
   ]
  },
  {
   "cell_type": "code",
   "execution_count": 49,
   "metadata": {},
   "outputs": [
    {
     "data": {
      "text/plain": [
       "3.6042315202449385e-28"
      ]
     },
     "execution_count": 49,
     "metadata": {},
     "output_type": "execute_result"
    }
   ],
   "source": [
    "sum_square_error(m,b,X,Y)"
   ]
  },
  {
   "cell_type": "code",
   "execution_count": 55,
   "metadata": {},
   "outputs": [
    {
     "data": {
      "text/plain": [
       "2.629747164010065"
      ]
     },
     "execution_count": 55,
     "metadata": {},
     "output_type": "execute_result"
    }
   ],
   "source": [
    "predict(m,b,2)"
   ]
  },
  {
   "cell_type": "code",
   "execution_count": 50,
   "metadata": {},
   "outputs": [
    {
     "data": {
      "image/png": "[encoded data removed]",
      "text/plain": [
       "<Figure size 432x288 with 1 Axes>"
      ]
     },
     "metadata": {
      "needs_background": "light"
     },
     "output_type": "display_data"
    }
   ],
   "source": [
    "x_max = np.max(X) \n",
    "x_min = np.min(X) \n",
    "\n",
    "x = np.linspace(x_min, x_max, 1000)\n",
    "y = b + m * x\n",
    "#plotting line \n",
    "plt.plot(x, y, color='#00ff00', label='Linear Regression')\n",
    "#plot the data point\n",
    "plt.scatter(X, Y, color='#ff0000', label='Data Point')\n",
    "# x-axis label\n",
    "plt.xlabel('X')\n",
    "#y-axis label\n",
    "plt.ylabel('Y')\n",
    "plt.legend()\n",
    "plt.show()"
   ]
  },
  {
   "cell_type": "code",
   "execution_count": 51,
   "metadata": {},
   "outputs": [],
   "source": [
    "from scipy.stats import linregress"
   ]
  },
  {
   "cell_type": "code",
   "execution_count": 52,
   "metadata": {},
   "outputs": [
    {
     "data": {
      "text/plain": [
       "Text(0, 0.5, 'Y')"
      ]
     },
     "execution_count": 52,
     "metadata": {},
     "output_type": "execute_result"
    },
    {
     "data": {
      "image/png": "[encoded data removed]",
      "text/plain": [
       "<Figure size 432x288 with 1 Axes>"
      ]
     },
     "metadata": {
      "needs_background": "light"
     },
     "output_type": "display_data"
    }
   ],
   "source": [
    "# Get slope, intercept from linregress() to plot y' = intercept + slope*x\n",
    "(slope, intercept, rvalue, pvalue, stderr) = linregress(X,Y)\n",
    " \n",
    "# Plot data points\n",
    "plt.scatter(X,Y, color=\"red\", marker=\"o\", label=\"Original data\")\n",
    " \n",
    " \n",
    "# Plot linear regression line.\n",
    "y_pred = intercept + slope*X\n",
    "plt.plot(X,y_pred, color=\"green\", label=\"Fitted line\")\n",
    " \n",
    "# Set labels\n",
    "plt.legend(loc='best')\n",
    "plt.xlabel('X') \n",
    "plt.ylabel('Y') "
   ]
  },
  {
   "cell_type": "code",
   "execution_count": 54,
   "metadata": {},
   "outputs": [
    {
     "data": {
      "text/plain": [
       "2.629747164010066"
      ]
     },
     "execution_count": 54,
     "metadata": {},
     "output_type": "execute_result"
    }
   ],
   "source": [
    "#predict Y at X = 2\n",
    "Y = intercept + slope*2\n",
    "Y"
   ]
  },
  {
   "cell_type": "code",
   "execution_count": null,
   "metadata": {},
   "outputs": [],
   "source": []
  }
 ],
 "metadata": {
  "kernelspec": {
   "display_name": "Python 3",
   "language": "python",
   "name": "python3"
  },
  "language_info": {
   "codemirror_mode": {
    "name": "ipython",
    "version": 3
   },
   "file_extension": ".py",
   "mimetype": "text/x-python",
   "name": "python",
   "nbconvert_exporter": "python",
   "pygments_lexer": "ipython3",
   "version": "3.8.5"
  }
 },
 "nbformat": 4,
 "nbformat_minor": 4
}
