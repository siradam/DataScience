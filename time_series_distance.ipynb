{
 "cells": [
  {
   "cell_type": "code",
   "execution_count": 1,
   "metadata": {},
   "outputs": [],
   "source": [
    "#Distance between 2 time series\n",
    "#L1 norm and infinity norm\n",
    "#offset translation and amplitude translation\n",
    "\n",
    "\n",
    "import numpy as np\n",
    "import math\n",
    "\n",
    "A = np.array([-1.66,0.30,-0.08, 0.10, -1.17, -0.05, 0.84, -0.66, 0.42, -0.99])\n",
    "B = np.array([0.29, 0.89, 0.82, 0.97, 0.53, 0.83, 1.06, 0.67, 0.86, 0.51])"
   ]
  },
  {
   "cell_type": "code",
   "execution_count": 2,
   "metadata": {},
   "outputs": [
    {
     "data": {
      "text/plain": [
       "array([-1.66,  0.3 , -0.08,  0.1 , -1.17, -0.05,  0.84, -0.66,  0.42,\n",
       "       -0.99])"
      ]
     },
     "execution_count": 2,
     "metadata": {},
     "output_type": "execute_result"
    }
   ],
   "source": [
    "A"
   ]
  },
  {
   "cell_type": "code",
   "execution_count": 3,
   "metadata": {},
   "outputs": [
    {
     "data": {
      "text/plain": [
       "array([0.29, 0.89, 0.82, 0.97, 0.53, 0.83, 1.06, 0.67, 0.86, 0.51])"
      ]
     },
     "execution_count": 3,
     "metadata": {},
     "output_type": "execute_result"
    }
   ],
   "source": [
    "B"
   ]
  },
  {
   "cell_type": "code",
   "execution_count": 6,
   "metadata": {},
   "outputs": [
    {
     "name": "stdout",
     "output_type": "stream",
     "text": [
      "L1 distance =  10.379999999999999\n",
      "L infinity distance =  1.95\n"
     ]
    }
   ],
   "source": [
    "#L1: Norm 1 distance\n",
    "res = 0\n",
    "for i in range(0,10):\n",
    "    res = res + abs(A[i]-B[i])\n",
    "    \n",
    "#Infinity norm distance\n",
    "max_res = 0\n",
    "for i in range(0,10):\n",
    "    temp = abs(A[i]-B[i])\n",
    "    if temp >= max_res:\n",
    "        max_res = temp\n",
    "\n",
    "print(\"L1 distance = \", res)\n",
    "print(\"L infinity distance = \", max_res)"
   ]
  },
  {
   "cell_type": "code",
   "execution_count": 7,
   "metadata": {},
   "outputs": [],
   "source": [
    "def norm1_dist(a, b):\n",
    "    res = 0\n",
    "    for i in range(len(a)):\n",
    "        res = res + abs(a[i]-b[i])\n",
    "    return res\n",
    "def norm_inf_dist(a, b):\n",
    "    max_res = 0\n",
    "    for i in range(len(a)):\n",
    "        temp = abs(a[i]-b[i])\n",
    "        if temp >= max_res:\n",
    "            max_res = temp\n",
    "    return max_res\n"
   ]
  },
  {
   "cell_type": "code",
   "execution_count": 8,
   "metadata": {},
   "outputs": [
    {
     "name": "stdout",
     "output_type": "stream",
     "text": [
      "A after offset translation [-1.365  0.595  0.215  0.395 -0.875  0.245  1.135 -0.365  0.715 -0.695]\n",
      "B after offset translation [-0.453  0.147  0.077  0.227 -0.213  0.087  0.317 -0.073  0.117 -0.233]\n",
      "L1 distance =  4.656\n",
      "L infinity distance =  0.9119999999999999\n"
     ]
    }
   ],
   "source": [
    "#Offset translation and recalculate distance\n",
    "#mean of A:\n",
    "np.mean(A)\n",
    "mean_a = -0.295\n",
    "mean_b = 0.743\n",
    "offset_A = np.empty(len(A))\n",
    "offset_B = np.empty(len(B))\n",
    "for i in range(len(A)):\n",
    "    offset_A[i] = A[i] - mean_a\n",
    "for i in range(len(B)):\n",
    "    offset_B[i] = B[i] - mean_b\n",
    "\n",
    "print(\"A after offset translation\", offset_A)\n",
    "print(\"B after offset translation\", offset_B)\n",
    "print(\"L1 distance = \", norm1_dist(offset_A, offset_B))\n",
    "print(\"L infinity distance = \", norm_inf_dist(offset_A, offset_B))"
   ]
  },
  {
   "cell_type": "code",
   "execution_count": 9,
   "metadata": {},
   "outputs": [
    {
     "name": "stdout",
     "output_type": "stream",
     "text": [
      "A after amplitude translation [-1.81422784  0.79081726  0.2857575   0.52499634 -1.16296657  0.32563064\n",
      "  1.50853377 -0.4851232   0.95030982 -0.92372773]\n",
      "B after amplitude translation [-2.00393441  0.65028335  0.34062461  1.00417905 -0.9422473   0.38486158\n",
      "  1.40231172 -0.32292983  0.51757246 -1.03072123]\n",
      "L1 distance =  1.9523867942712256\n",
      "L infinity distance =  0.47918271722252814\n"
     ]
    }
   ],
   "source": [
    "#Amplitude translation and recalculate distance\n",
    "#perform offset and standard deviation (A[i]- mean(A))/std(A)\n",
    "amplitude_A = np.empty(len(A))\n",
    "amplitude_B = np.empty(len(B))\n",
    "\n",
    "for i in range(len(A)):\n",
    "    amplitude_A[i] = offset_A[i]/np.std(A)\n",
    "for i in range(len(B)):\n",
    "    amplitude_B[i] = offset_B[i]/np.std(B)\n",
    "    \n",
    "print(\"A after amplitude translation\", amplitude_A)\n",
    "print(\"B after amplitude translation\", amplitude_B)\n",
    "print(\"L1 distance = \", norm1_dist(amplitude_A, amplitude_B))\n",
    "print(\"L infinity distance = \", norm_inf_dist(amplitude_A, amplitude_B))"
   ]
  },
  {
   "cell_type": "code",
   "execution_count": 10,
   "metadata": {},
   "outputs": [
    {
     "data": {
      "text/plain": [
       "0.051100999999999994"
      ]
     },
     "execution_count": 10,
     "metadata": {},
     "output_type": "execute_result"
    }
   ],
   "source": [
    "var_B = B.var()\n",
    "var_B"
   ]
  },
  {
   "cell_type": "code",
   "execution_count": 11,
   "metadata": {},
   "outputs": [
    {
     "data": {
      "text/plain": [
       "0.7523862040202491"
      ]
     },
     "execution_count": 11,
     "metadata": {},
     "output_type": "execute_result"
    }
   ],
   "source": [
    "np.std(A)\n"
   ]
  },
  {
   "cell_type": "code",
   "execution_count": 12,
   "metadata": {},
   "outputs": [
    {
     "data": {
      "text/plain": [
       "0.22605530296810114"
      ]
     },
     "execution_count": 12,
     "metadata": {},
     "output_type": "execute_result"
    }
   ],
   "source": [
    "np.std(B)"
   ]
  },
  {
   "cell_type": "code",
   "execution_count": null,
   "metadata": {},
   "outputs": [],
   "source": []
  }
 ],
 "metadata": {
  "kernelspec": {
   "display_name": "Python 3",
   "language": "python",
   "name": "python3"
  },
  "language_info": {
   "codemirror_mode": {
    "name": "ipython",
    "version": 3
   },
   "file_extension": ".py",
   "mimetype": "text/x-python",
   "name": "python",
   "nbconvert_exporter": "python",
   "pygments_lexer": "ipython3",
   "version": "3.8.5"
  }
 },
 "nbformat": 4,
 "nbformat_minor": 4
}
